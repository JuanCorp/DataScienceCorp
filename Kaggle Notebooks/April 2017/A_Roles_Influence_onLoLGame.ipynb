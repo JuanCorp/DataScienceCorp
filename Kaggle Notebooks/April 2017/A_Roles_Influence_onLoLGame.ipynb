{
  "metadata": {
    "kernelspec": {
      "display_name": "R",
      "language": "R",
      "name": "ir"
    },
    "language_info": {
      "codemirror_mode": "r",
      "file_extension": ".r",
      "mimetype": "text/x-r-source",
      "name": "R",
      "pygments_lexer": "r",
      "version": "3.3.3"
    }
  },
  "nbformat": 4,
  "nbformat_minor": 0,
  "cells": [
    {
      "cell_type": "markdown",
      "source": "Hello, welcome to my second notebook on the League of Legends dataset. This time, we will investigate the importance of each role on the outcome of the game. We'll do this by calculating the average gold difference for each role per game and which team was victorious.Then, we will take the role which had the greatest gold difference ( this means which role had the most gold compared to the opponent on the same role) and say this role was the one that \"carried the game\" or was the MVP. After this we'll count the appearances of each role, and rank them up. Enjoy!",
      "metadata": {}
    },
    {
      "cell_type": "markdown",
      "source": "## 1. Loading the data ##\n\nFor this analysis, we will use the main file of the dataset, that contains team data, winner, and gold differences per minute.",
      "metadata": {}
    },
    {
      "cell_type": "code",
      "source": "# This R environment comes with all of CRAN preinstalled, as well as many other helpful packages\n# The environment is defined by the kaggle/rstats docker image: https://github.com/kaggle/docker-rstats\n# For example, here's several helpful packages to load in \n\nlibrary(ggplot2) # Data visualization\nlibrary(readr) # CSV file I/O, e.g. the read_csv function\n\n# Input data files are available in the \"../input/\" directory.\n# For example, running this (by clicking run or pressing Shift+Enter) will list the files in the input directory\n\nsystem(\"ls ../input\")\n\nmain <- read.csv('../input/_LeagueofLegends.csv')",
      "execution_count": null,
      "outputs": [],
      "metadata": {}
    },
    {
      "cell_type": "markdown",
      "source": "Next we'll create a function that adds the gold difference for each role for each minute, giving a total difference for the game. We will divide this by the length of the game, giving us the average gold difference. By default we will subtract blueteam role gold with red team role gold. If the answer is positive, then the blue role had more gold on average, if the answer is negative then the read team role had more gold. If a lane was a \"stomp\" or won really hard, then this value will be really high.  \n\nSince the gold differences are in factor vectors, it is kind of tricky to convert these into numeric vectors, so we will create a function that does this, and all the required operations to calculate the gold difference.",
      "metadata": {}
    },
    {
      "cell_type": "code",
      "source": "       \n    red <- vector(\"list\",3645)\n    blue<- vector(\"list\",3645)\n     #for red, function can be better abstracted but I don't have time.\n    for(i in 1:length(main$goldredTop)){\n        y <- gsub(\"\\\\[|\\\\]\", \"\", main$goldredTop[i])\n        y <- gsub(\" \",\"\",y)\n        numbers <- strsplit(y,',')\n        numbers <- unlist(numbers)\n        red[[i]] <- as.numeric(numbers)\n    }\n       #for blue\n       for(i in 1:length(main$goldblueTop)){\n        y <- gsub(\"\\\\[|\\\\]\", \"\", main$goldblueTop[i])\n        y <- gsub(\" \",\"\",y)\n        numbers <- strsplit(y,',')\n        numbers <- unlist(numbers)\n        blue[[i]] <- as.numeric(numbers)\n    }\n\nmean(red[[2]] - blue[[2]])",
      "execution_count": null,
      "outputs": [],
      "metadata": {}
    },
    {
      "cell_type": "markdown",
      "source": "## 2. Preparing the Data ##",
      "metadata": {}
    },
    {
      "cell_type": "code",
      "source": "#Create functions to calculate the average gold difference, given a role. Size is hard-coded for now.\n  #function can be better abstracted but I don't have time.\nRoleGoldDiff <- function(role){\n       result<-numeric(length = 3645)\n       red <- vector(\"list\",3645)\n      blue<- vector(\"list\",3645)\n   if(role == \"top\"){\n \n   \n    for(i in 1:length(main$goldredTop)){\n        y <- gsub(\"\\\\[|\\\\]\", \"\", main$goldredTop[i])\n        y <- gsub(\" \",\"\",y)\n        numbers <- strsplit(y,',')\n        numbers <- unlist(numbers)\n        red[[i]] <- as.numeric(numbers)\n    }\n       #for blue\n       for(i in 1:length(main$goldblueTop)){\n        y <- gsub(\"\\\\[|\\\\]\", \"\", main$goldblueTop[i])\n        y <- gsub(\" \",\"\",y)\n        numbers <- strsplit(y,',')\n        numbers <- unlist(numbers)\n        blue[[i]] <- as.numeric(numbers)\n    }\n \n   }\n    else if(role == \"jun\"){\n \n     #for red, function can be better abstracted but I don't have time.\n    for(i in 1:length(main$goldredJungle)){\n        y <- gsub(\"\\\\[|\\\\]\", \"\", main$goldredJungle[i])\n        y <- gsub(\" \",\"\",y)\n        numbers <- strsplit(y,',')\n        numbers <- unlist(numbers)\n        red[[i]] <- as.numeric(numbers)\n    }\n       #for blue\n       for(i in 1:length(main$goldblueJungle)){\n        y <- gsub(\"\\\\[|\\\\]\", \"\", main$goldblueJungle[i])\n        y <- gsub(\" \",\"\",y)\n        numbers <- strsplit(y,',')\n        numbers <- unlist(numbers)\n        blue[[i]] <- as.numeric(numbers)\n    }\n  \n   \n   }\n    else if(role == \"mid\"){\n \n     #for red, function can be better abstracted but I don't have time.\n    for(i in 1:length(main$goldredMiddle)){\n        y <- gsub(\"\\\\[|\\\\]\", \"\", main$goldredMiddle[i])\n        y <- gsub(\" \",\"\",y)\n        numbers <- strsplit(y,',')\n        numbers <- unlist(numbers)\n        red[[i]] <- as.numeric(numbers)\n    }\n       #for blue\n       for(i in 1:length(main$goldblueMiddle)){\n        y <- gsub(\"\\\\[|\\\\]\", \"\", main$goldblueMiddle[i])\n        y <- gsub(\" \",\"\",y)\n        numbers <- strsplit(y,',')\n        numbers <- unlist(numbers)\n        blue[[i]] <- as.numeric(numbers)\n    }\n  \n\n   }\n    else if(role == \"adc\"){\n \n     #for red, function can be better abstracted but I don't have time.\n    for(i in 1:length(main$goldredADC)){\n        y <- gsub(\"\\\\[|\\\\]\", \"\", main$goldredADC[i])\n        y <- gsub(\" \",\"\",y)\n        numbers <- strsplit(y,',')\n        numbers <- unlist(numbers)\n        red[[i]] <- as.numeric(numbers)\n    }\n       #for blue\n       for(i in 1:length(main$goldblueADC)){\n        y <- gsub(\"\\\\[|\\\\]\", \"\", main$goldblueADC[i])\n        y <- gsub(\" \",\"\",y)\n        numbers <- strsplit(y,',')\n        numbers <- unlist(numbers)\n        blue[[i]] <- as.numeric(numbers)\n    }\n  \n  \n   }\n    else{\n \n     #for red, function can be better abstracted but I don't have time.\n    for(i in 1:length(main$goldredSupport)){\n        y <- gsub(\"\\\\[|\\\\]\", \"\", main$goldredSupport[i])\n        y <- gsub(\" \",\"\",y)\n        numbers <- strsplit(y,',')\n        numbers <- unlist(numbers)\n        red[[i]] <- as.numeric(numbers)\n    }\n       #for blue\n       for(i in 1:length(main$goldblueSupport)){\n        y <- gsub(\"\\\\[|\\\\]\", \"\", main$goldblueSupport[i])\n        y <- gsub(\" \",\"\",y)\n        numbers <- strsplit(y,',')\n        numbers <- unlist(numbers)\n        blue[[i]] <- as.numeric(numbers)\n    }\n  \n      \n   }\n    for(i in 1:length(result)){\n          result[i] <- mean(red[[i]] - blue[[i]])\n          }    \n     result\n}",
      "execution_count": null,
      "outputs": [],
      "metadata": {}
    },
    {
      "cell_type": "code",
      "source": "main$TopAvg <- RoleGoldDiff(role = \"top\")\nmain$JungleAvg <- RoleGoldDiff(role = \"jun\")\nmain$MidAvg <- RoleGoldDiff(role = \"mid\")\nmain$ADCAvg <- RoleGoldDiff(role = \"adc\")\nmain$SupportAvg <- RoleGoldDiff(role= \"support\")\nmain[1,]",
      "execution_count": null,
      "outputs": [],
      "metadata": {}
    },
    {
      "cell_type": "markdown",
      "source": "Now let's create a new data frame to have an easier time visualizing the data we are interested in.",
      "metadata": {}
    },
    {
      "cell_type": "code",
      "source": "main[3645,]",
      "execution_count": null,
      "outputs": [],
      "metadata": {}
    },
    {
      "cell_type": "code",
      "source": "##Test for year, just specify the year if you want to change the games depending on year games only\n##mainYear <- main[main$Year == 2016,]\n##games <- data.frame(winner=ifelse(mainYear$bResult==1,\"Blue\",\"Red\"),\n##                  TopAvg = mainYear$TopAvg,\n##                   JungleAvg= mainYear$JungleAvg,\n##                   MidAvg = mainYear$MidAvg,\n##                   ADCAvg = mainYear$ADCAvg,\n##                   SupportAvg= mainYear$SupportAvg)\n\ngames <- data.frame(winner=ifelse(main$bResult==1,\"Blue\",\"Red\"),\n                    TopAvg = main$TopAvg,\n                    JungleAvg= main$JungleAvg,\n                    MidAvg = main$MidAvg,\n                    ADCAvg = main$ADCAvg,\n                    SupportAvg= main$SupportAvg)\n\nhead(games)",
      "execution_count": null,
      "outputs": [],
      "metadata": {}
    },
    {
      "cell_type": "markdown",
      "source": "Now, let's add a column for each role, which will have a value for the team winner for each role. As in the calculation earlier, if the value for the gold difference average for a role is negative, then the blue team player for that role had the advantage, if it's positive, then the read team had the advantage.  After that we will replace the values for the averages with their absolute value.",
      "metadata": {}
    },
    {
      "cell_type": "code",
      "source": "games$TopWinningTeam <- ifelse(games$TopAvg > 0,\"Red\",\"Blue\")\ngames$JungWinningTeam <- ifelse(games$JungleAvg > 0,\"Red\",\"Blue\")\ngames$MidWinningTeam <- ifelse(games$MidAvg > 0,\"Red\",\"Blue\")\ngames$ADCWinningTeam <- ifelse(games$ADCAvg > 0,\"Red\",\"Blue\")\ngames$SupWinningTeam <- ifelse(games$SupportAvg > 0,\"Red\",\"Blue\")\n\ngames$TopAvg <- abs(games$TopAvg)\ngames$JungleAvg <- abs(games$JungleAvg)\ngames$MidAvg <- abs(games$MidAvg)\ngames$ADCAvg <- abs(games$ADCAvg)\ngames$SupportAvg <- abs(games$SupportAvg)",
      "execution_count": null,
      "outputs": [],
      "metadata": {}
    },
    {
      "cell_type": "markdown",
      "source": "Now we can clearly see the point of this analysis.  \n\nLet's just take a look at the first game in the dataset, where the red team had three winning lanes (ADC, Top and Jungle) with a total of about 700 gold advantage between the three lanes, but the blue team had a winning Mid and Support with a total of about 2000 Gold difference , and the winning team was the blue team.  \n\nNow let's create two more columns, one for the Carry Lane, and the team with that carry.  ",
      "metadata": {}
    },
    {
      "cell_type": "code",
      "source": "Carries <- vector(\"character\",length = nrow(games))\nCarryTeams <- vector(\"character\",length = nrow(games))\n\nfor(i in 1:nrow(games))\n{\n    TopValue <- games$TopAvg[i]\n    JungValue <- games$JungleAvg[i]\n    MidValue <- games$MidAvg[i]\n    ADCValue <- games$ADCAvg[i]\n    SupValue <- games$SupportAvg[i]\n    \n    RoleValues <- c(TopValue,JungValue,MidValue,ADCValue,SupValue)\n    \n    CarryGold <- max(RoleValues)\n    \n    #Cases in which each role was the carry. Get the team which was the winner aswell.\n    if(CarryGold == TopValue )\n        {\n            Carries[i] <- \"Top\"\n            CarryTeams[i] <- games$TopWinningTeam[i]\n    }\n    else if(CarryGold == JungValue){\n            Carries[i] <- \"Jungle\"\n            CarryTeams[i] <- games$JungWinningTeam[i]\n    }\n        \n    else if(CarryGold == MidValue){\n            Carries[i] <- \"Mid\"\n            CarryTeams[i] <- games$MidWinningTeam[i]\n    }\n        \n    else if(CarryGold == ADCValue){\n            Carries[i] <- \"ADC\"\n            CarryTeams[i] <- games$ADCWinningTeam[i]\n    }\n    else{\n        #Case for support (yeah, like that's gonna happen :^) )\n        Carries[i] <- \"Support\"\n        CarryTeams[i] <- games$SupWinningTeam[i]\n    }\n}\ngames$Carry <- Carries\ngames$TeamOfCarry <- CarryTeams\nhead(games)",
      "execution_count": null,
      "outputs": [],
      "metadata": {}
    },
    {
      "cell_type": "markdown",
      "source": "With this our dataset is complete, and we can start creating some visualizations to have a more clear analysis of the data, and hopefully answer our question.",
      "metadata": {}
    },
    {
      "cell_type": "markdown",
      "source": "## 3. Creating Visualizations ##",
      "metadata": {}
    },
    {
      "cell_type": "markdown",
      "source": "For our first visualization we will  let's see which lanes carries the most/least often. ",
      "metadata": {}
    },
    {
      "cell_type": "code",
      "source": "\nggplot(data = games, aes(x = Carry, fill = Carry)) + geom_bar(stat=\"count\") + \nggtitle(\"Count of carrying per role\")",
      "execution_count": null,
      "outputs": [],
      "metadata": {}
    },
    {
      "cell_type": "markdown",
      "source": "So in all the games, the role that carries the most is the Attack Damage Carry or ADC (surprising isn't it?). You can try changing the year on the cell where games was created to specify the year, for different and interesting results! \n\nI'm going to create one more visualization, this time, let's see how many times carrying leads to winning. Readers can fork this dataset to create their own visualizations and develop their own insights!.",
      "metadata": {}
    },
    {
      "cell_type": "code",
      "source": "WinningDF <- data.frame(Winner=games$winner,CarryTeam=games$TeamOfCarry,Carry=games$Carry)\n\n\nWinningDF$CarryWin <- ifelse(WinningDF$Winner == WinningDF$CarryTeam,1,0)\n\nTopCarryWins <- nrow(WinningDF[WinningDF$Carry==\"Top\" & WinningDF$CarryWin==1,])/nrow(WinningDF[WinningDF$Carry==\"Top\",])\nJunCarryWins <- nrow(WinningDF[WinningDF$Carry==\"Jungle\" & WinningDF$CarryWin==1,])/nrow(WinningDF[WinningDF$Carry==\"Jungle\",])\nMidCarryWins <- nrow(WinningDF[WinningDF$Carry==\"Mid\" & WinningDF$CarryWin==1,])/nrow(WinningDF[WinningDF$Carry==\"Mid\",])\nADCCarryWins <- nrow(WinningDF[WinningDF$Carry==\"ADC\" & WinningDF$CarryWin==1,])/nrow(WinningDF[WinningDF$Carry==\"ADC\",])\nSupCarryWins <- nrow(WinningDF[WinningDF$Carry==\"Support\" & WinningDF$CarryWin==1,])/nrow(WinningDF[WinningDF$Carry==\"Support\",])\n\n#Create a data frame with the winrate of each role, when that specific role is the carry of the game.\nCarryRoleWins <- data.frame(Role = c(\"Top\",\"Jungle\",\"Mid\",\"ADC\",\"Support\"),\n                          Winrate= c(TopCarryWins,JunCarryWins,MidCarryWins,ADCCarryWins,SupCarryWins))\n\nggplot(data=CarryRoleWins, aes(x=Role,y=Winrate,fill=Role)) + geom_bar(stat=\"identity\")\nCarryRoleWins",
      "execution_count": null,
      "outputs": [],
      "metadata": {}
    },
    {
      "cell_type": "markdown",
      "source": "And there we have it! When carrying, the role most likely to win is the Attack Damage Carry with a 91% winrate, while the role least likely to win is the Top laner (by just a little bit) with an 83.5% winrate. Still, those are pretty high winrates for all roles when carrying! \n\nWith this, we have come to the conclusion that carries are more likely to win their games, even if their teammates are not doing so well, or lost their lanes. Thanks for reading!",
      "metadata": {}
    }
  ]
}