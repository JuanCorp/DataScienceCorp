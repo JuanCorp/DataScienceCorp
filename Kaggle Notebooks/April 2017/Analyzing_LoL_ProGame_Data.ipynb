{
  "metadata": {
    "kernelspec": {
      "display_name": "R",
      "language": "R",
      "name": "ir"
    },
    "language_info": {
      "codemirror_mode": "r",
      "file_extension": ".r",
      "mimetype": "text/x-r-source",
      "name": "R",
      "pygments_lexer": "r",
      "version": "3.3.3"
    }
  },
  "nbformat": 4,
  "nbformat_minor": 0,
  "cells": [
    {
      "cell_type": "markdown",
      "source": "As an avid League of Legends player, I will check this dataset out often for insights. This is simply the first time of many. Today we are just going to be checking out the game results dataset, which is the one called LeagueofLegends.csv. This one will be simple to analyze, and hopefully make way for more kagglers to analyze the other datasets, and the main one, _LeagueofLegends.csv",
      "metadata": {}
    },
    {
      "cell_type": "code",
      "source": "\nlibrary(ggplot2) # Data visualization\nlibrary(readr) # CSV file I/O, e.g. the read_csv function\nlibrary(dplyr)\nsystem(\"ls ../input\")",
      "execution_count": null,
      "outputs": [],
      "metadata": {}
    },
    {
      "cell_type": "markdown",
      "source": "**Loading the data**\n-----------------",
      "metadata": {}
    },
    {
      "cell_type": "markdown",
      "source": "Let's  start by loading the data! ",
      "metadata": {}
    },
    {
      "cell_type": "code",
      "source": "games <- read.csv('../input/LeagueofLegends.csv',stringsAsFactors=FALSE)",
      "execution_count": null,
      "outputs": [],
      "metadata": {}
    },
    {
      "cell_type": "code",
      "source": "dim(games)",
      "execution_count": null,
      "outputs": [],
      "metadata": {}
    },
    {
      "cell_type": "markdown",
      "source": "Let's check out the  dimension of the dataset, and observe how many rows and columns  it contains.",
      "metadata": {}
    },
    {
      "cell_type": "markdown",
      "source": "What does the dataset contain? Let's have a look:",
      "metadata": {}
    },
    {
      "cell_type": "code",
      "source": "head(games)",
      "execution_count": null,
      "outputs": [],
      "metadata": {}
    },
    {
      "cell_type": "markdown",
      "source": "So here's what we have: \n\n**Match History**: url where the obtained data resides in.\n\n**League**:  The region in which the match took place. These are North_America for US and Canada games, Europe for european games, LCK for Korean games, LMS for Taiwan and Hong Kong, Season World Championship is for world championship games for that season,  Mid season invitational is the mid season tournament that takes place in May, and CBLOL is the brazilian league. \n\n**Season**: The season in which the game took place. They are divided in Playoffs for the end season games, and Season for the regular season games. Spring season games determines Mid-Season Invitational entries, and Summer season games determine World championship entries. There are also Regional (off-season) games, Winter games( which I personally haven't seen) and International games.\n\n**Year**: Match year.\n\n**Blue/Red Team tag**: Team tag for each team. \n\n**Result**: Which team was victorious, with 1 being a win and 0 being a loss.\n\n**Game Length** : Length of the game in minutes.\n\n**Player Name/Champion for Position.**: There are 5 positions: Top laners (usually tanky, durable and self-sufficient characters), Junglers(Roaming characters that help all other positions and protect their own jungle/invade the enemy's jungle), Mid laners (Usually mages/assassins, heavy damage dealers and/or zone controlling characters), ADC( Long range marksman focused on dealing consistent damage or DPS), Support (support type character which focuses on protecting and assisting their team, as well as mantaining an upper hand on vision of the map.). These columns contain the name of the player of the team for a specific role in that match, as well as the name of the Champion(character) that the player was using. Almost every Champion is designed with a role or position in mind.",
      "metadata": {}
    },
    {
      "cell_type": "markdown",
      "source": "Now let's look at the general structure of the data.",
      "metadata": {}
    },
    {
      "cell_type": "code",
      "source": "str(games)",
      "execution_count": null,
      "outputs": [],
      "metadata": {}
    },
    {
      "cell_type": "markdown",
      "source": "Well something is strange. There are 111 unique blue team tags, but only 109 red team tags. Looks like some times have never played on the red side.\n\nThere's also teams that are duplicated, since as we can see, ahq appears twice with lowercase and uppercase letters. \n\nLet's find out why:",
      "metadata": {}
    },
    {
      "cell_type": "code",
      "source": "head(games[games$redTeamTag=='AHQ',])\nhead(games[games$redTeamTag=='ahq',])",
      "execution_count": null,
      "outputs": [],
      "metadata": {}
    },
    {
      "cell_type": "markdown",
      "source": "It seems like in their home turf, AHQ is spelled with lowercase letters, which is not the case on International tournaments. In case this happens with other teams,  let's just rename all teams to uppercase.",
      "metadata": {}
    },
    {
      "cell_type": "code",
      "source": "games$blueTeamTag <- (toupper(games$blueTeamTag))\ngames$redTeamTag <- (toupper(games$redTeamTag))\n\nstr(games$blueTeamTag)",
      "execution_count": null,
      "outputs": [],
      "metadata": {}
    },
    {
      "cell_type": "markdown",
      "source": "Well something's still not right. There's a team with no name! Let's have a look at that match.",
      "metadata": {}
    },
    {
      "cell_type": "code",
      "source": "games[games$blueTeamTag == \"\" ,]",
      "execution_count": null,
      "outputs": [],
      "metadata": {}
    },
    {
      "cell_type": "markdown",
      "source": "Let's fix that match. And continue on with the visualizations.",
      "metadata": {}
    },
    {
      "cell_type": "code",
      "source": "games$blueTeamTag[games$blueTeamTag == \"\"] <- \"FW\"",
      "execution_count": null,
      "outputs": [],
      "metadata": {}
    },
    {
      "cell_type": "markdown",
      "source": "## Data Visualizations ##\n\nFirst, let's ask ourselves some questions that could be answered if the current state of our dataset(Later we can do some modifications to the dataset to find even more insights). \n\nWhat is the average game time for each League?\n\nWhat teams are the slowest/fastest to end a game?\n\nWhat role has the most diversity?\n\nWhat are the most/least played champions?\n\nLet's answer these questions for now.",
      "metadata": {}
    },
    {
      "cell_type": "code",
      "source": "str(games)",
      "execution_count": null,
      "outputs": [],
      "metadata": {}
    },
    {
      "cell_type": "code",
      "source": "#Average game time for each league.\n\nggplot(games, aes(x=League, y=gamelength, fill = League)) +\n    stat_summary(fun.y=\"mean\",geom=\"bar\")+\n    ggtitle(\"Average game time for each League\")",
      "execution_count": null,
      "outputs": [],
      "metadata": {}
    },
    {
      "cell_type": "markdown",
      "source": "On average, games on the brazilian league are the ones taking the most to finish, with over 40 minutes. On the other hand, games taking place on the Mid Season Invitational annual world tournament take the least, which, as those who have watched the games know, are usually stomps.",
      "metadata": {}
    },
    {
      "cell_type": "code",
      "source": "#Average game time per team. Since the team can be on the blue or red side, things could get complicated.\n#I'll create a for loop to fill a dataframe with  the Team, number of games and a sum of their length.\n#If anyone can provide a more efficient solution, I'd be glad.\n\n\nteams<- data.frame(Team = unique(games$blueTeamTag),TotalGames = 0,TotalLength=0, AvgGameLength = NA)\nfor(i in 1:nrow(teams)){\n    \n    teams$TotalGames[i] <- nrow(games[games$blueTeamTag == teams$Team[i] ,]) \n    teams$TotalGames[i] <- teams$TotalGames[i] + nrow(games[games$redTeamTag==teams$Team[i],])\n    teams$TotalLength[i] <- sum(games$gamelength[games$blueTeamTag == teams$Team[i]])\n    teams$TotalLength[i] <- teams$TotalLength[i] + sum(games$gamelength[games$redTeamTag == teams$Team[i]])\n    teams$AvgGameLength[i] <- teams$TotalLength[i]/teams$TotalGames[i]\n}\n\n\nhead(teams)",
      "execution_count": null,
      "outputs": [],
      "metadata": {}
    },
    {
      "cell_type": "markdown",
      "source": "Now that we have created our teams dataframe with their average game length, let's plot which teams take the most time, and which take the least. But since some teams have almost no games under their belt, let's also take into account those who have at least 10 games or more.",
      "metadata": {}
    },
    {
      "cell_type": "code",
      "source": "teams <- teams[teams$TotalGames>9,]",
      "execution_count": null,
      "outputs": [],
      "metadata": {}
    },
    {
      "cell_type": "code",
      "source": "#Teams that take the least amount of time to end a game.\n\nggplot(teams[order(teams$AvgGameLength),][1:10,], aes(x=Team, y=AvgGameLength, fill = Team)) +\n    geom_bar(stat=\"identity\")+\n    ggtitle(\"Fastest teams\")",
      "execution_count": null,
      "outputs": [],
      "metadata": {}
    },
    {
      "cell_type": "markdown",
      "source": "The team that takes the least amount of time to finish a game is DOR. Among the most popular fastest teams are Edward Gaming (EDG) from China, FlyQuest (FLY) from North America, Immortals (from NA), Splyce (SPY) from Europe, and back in their day, Samsung White (SSW now Samsung Galaxy) from Korea. On average these teams take 30 minutes to finish a game. Now which teams take the most amount of time?",
      "metadata": {}
    },
    {
      "cell_type": "code",
      "source": "#Teams that take the most amount of time to end a game.\n\nggplot(teams[order(-teams$AvgGameLength),][1:10,], aes(x=Team, y=AvgGameLength, fill = Team)) +\n    geom_bar(stat=\"identity\")+\n    ggtitle(\"Slowest teams\")",
      "execution_count": null,
      "outputs": [],
      "metadata": {}
    },
    {
      "cell_type": "markdown",
      "source": "Wow these guys take 40 minutes on average to finish a game, 10 more than the ones that take the least amount of time. Some popular teams include, CJ Entus from Korea, Najin (NJE) also from Korea, and back in their day, Team Dragon Knights (TDK) from North America. ",
      "metadata": {}
    },
    {
      "cell_type": "code",
      "source": "#What role hast the most diversity? This is done by counting distinct champions in each role\n#And comparing which team has the most unique champion appearances.\n\nroleCount <- data.frame(Role=c(\"Top\",\"Jungle\",\"Mid\",\"ADC\",\"Support\"),Count = 0)\nroleCount$Count[roleCount$Role==\"Top\"] <- max(c(length(unique(games$blueTopChamp)),\n                                                length(unique(games$redTopChamp))))\nroleCount$Count[roleCount$Role==\"Jungle\"] <- max(c(length(unique(games$blueJungleChamp)),\n                                                length(unique(games$redJungleChamp))))\nroleCount$Count[roleCount$Role==\"Mid\"] <- max(c(length(unique(games$blueMiddleChamp)),\n                                                length(unique(games$redMiddleChamp))))\nroleCount$Count[roleCount$Role==\"ADC\"] <- max(c(length(unique(games$blueADCChamp)),\n                                                length(unique(games$redADCChamp))))\nroleCount$Count[roleCount$Role==\"Support\"] <- max(c(length(unique(games$blueSupportChamp)),\n                                                length(unique(games$redSupportChamp))))\n\nggplot(roleCount, aes(x=Role, y=Count, fill = Role)) +\n    geom_bar(stat=\"identity\")+\n    ggtitle(\"Most Diverse Role\")",
      "execution_count": null,
      "outputs": [],
      "metadata": {}
    },
    {
      "cell_type": "markdown",
      "source": "Top and Mid are by far the most diverse roles, with over 60 unique champions played there.  This is no surprise, as when the meta changes, this two roles are the one changing the most. ADC is the most stagnant role, with 25 unique champions played in the role.   This makes sense, as ADC is a fairly strict role on which champions should be played there ( I even find 25 a bit too much considering champion.gg lists about 18 champions as ADCs). ",
      "metadata": {}
    },
    {
      "cell_type": "code",
      "source": "#Most/Least Played champions. Again I would appreciate a more efficient approach to this.\n\nTopChamps <- unique(games$blueTopChamp)\nTopChamps <- append(TopChamps,unique(games$redTopChamp[!games$redTopChamp %in% TopChamps]))\n\nJungleChamps <- unique(games$blueJungleChamp)\nJungleChamps <- append(JungleChamps,unique(games$redJungleChamp[!games$redJungleChamp %in% JungleChamps]))\n\nMiddleChamps <- unique(games$blueMiddleChamp)\nMiddleChamps <- append(MiddleChamps,unique(games$redMiddleChamp[!games$redMiddleChamp %in% MiddleChamps]))\n\nADCChamps <- unique(games$blueADCChamp)\nADCChamps <- append(ADCChamps,unique(games$redADCChamp[!games$redADCChamp %in% ADCChamps]))\n\nSupportChamps <- unique(games$blueSupportChamp)\nSupportChamps <- append(SupportChamps,unique(games$redSupportChamp[!games$redSupportChamp %in% SupportChamps]))\n\nAllChamps <- TopChamps\nAllChamps <- append(AllChamps,JungleChamps[!JungleChamps %in% AllChamps])\nAllChamps <- append(AllChamps,MiddleChamps[!MiddleChamps %in% AllChamps])\nAllChamps <- append(AllChamps,ADCChamps[!ADCChamps %in% AllChamps])\nAllChamps <- append(AllChamps,SupportChamps[!SupportChamps %in% AllChamps])\n\nChampCount <- data.frame(Champion= AllChamps, PlayCount = 0)\n\nfor(i in 1:length(AllChamps)){\n    #This will be long...\n    \n    ChampCount$PlayCount[i] <- nrow(games[games$redTopChamp==AllChamps[i],])\n    ChampCount$PlayCount[i] <- ChampCount$PlayCount[i] + nrow(games[games$blueTopChamp==AllChamps[i],])\n    \n    ChampCount$PlayCount[i] <- ChampCount$PlayCount[i] + nrow(games[games$redJungleChamp==AllChamps[i],])\n    ChampCount$PlayCount[i] <- ChampCount$PlayCount[i] + nrow(games[games$blueJungleChamp==AllChamps[i],])\n    \n    ChampCount$PlayCount[i] <- ChampCount$PlayCount[i] + nrow(games[games$redMiddleChamp==AllChamps[i],])\n    ChampCount$PlayCount[i] <- ChampCount$PlayCount[i] + nrow(games[games$blueMiddleChamp==AllChamps[i],])\n    \n    ChampCount$PlayCount[i] <- ChampCount$PlayCount[i] + nrow(games[games$redADCChamp==AllChamps[i],])\n    ChampCount$PlayCount[i] <- ChampCount$PlayCount[i] + nrow(games[games$blueADCChamp==AllChamps[i],])\n    \n    ChampCount$PlayCount[i] <- ChampCount$PlayCount[i] + nrow(games[games$redSupportChamp==AllChamps[i],])\n    ChampCount$PlayCount[i] <- ChampCount$PlayCount[i] + nrow(games[games$blueSupportChamp==AllChamps[i],])\n}\n\nrm(AllChamps)",
      "execution_count": null,
      "outputs": [],
      "metadata": {}
    },
    {
      "cell_type": "code",
      "source": "##10 Most used Champions\n\nggplot(ChampCount[order(-ChampCount$PlayCount),][1:10,], aes(x=Champion, y=PlayCount, fill = Champion)) +\n    geom_bar(stat=\"identity\")+\n    ggtitle(\"Most used champions\")",
      "execution_count": null,
      "outputs": [],
      "metadata": {}
    },
    {
      "cell_type": "code",
      "source": "ChampCount[ChampCount$Champion == \"Jhin\",]",
      "execution_count": null,
      "outputs": [],
      "metadata": {}
    },
    {
      "cell_type": "markdown",
      "source": "So RekSai, in the jungle,  is the most used champ by quite a bit, followed by Sivir as ADC and Gragas in the Jungle/Top.  All three count for approximately one third of the games.",
      "metadata": {}
    },
    {
      "cell_type": "code",
      "source": "ggplot(ChampCount[order(ChampCount$PlayCount),][1:10,], aes(x=Champion, y=PlayCount, fill = Champion)) +\n    geom_bar(stat=\"identity\")+\n    ggtitle(\"Least used champions\")",
      "execution_count": null,
      "outputs": [],
      "metadata": {}
    },
    {
      "cell_type": "markdown",
      "source": "And there are the least used champs (MonkeyKing = Wukong in Chinese).  Some champions have only been used once. A huge contrast with the most used champions.  \n\nNow let's add the teams winrate to our teams Dataframe.",
      "metadata": {}
    },
    {
      "cell_type": "code",
      "source": "winners <- ifelse(games$bResult == 1,games$blueTeamTag,games$redTeamTag)\ngames$Winner <- winners\n\nfor(i in 1:length(teams$Team))\n    {\n    teams$Wins[i] <- nrow(games[games$Winner == teams$Team[i],])\n    teams$Winrate[i] <- round(teams$Wins[i]/teams$TotalGames[i],4)\n}\n\nhead(teams)",
      "execution_count": null,
      "outputs": [],
      "metadata": {}
    },
    {
      "cell_type": "code",
      "source": "null",
      "execution_count": null,
      "outputs": [],
      "metadata": {}
    }
  ]
}