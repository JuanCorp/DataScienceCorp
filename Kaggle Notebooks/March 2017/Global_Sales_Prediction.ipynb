{
  "metadata": {
    "kernelspec": {
      "display_name": "R",
      "language": "R",
      "name": "ir"
    },
    "language_info": {
      "codemirror_mode": "r",
      "file_extension": ".r",
      "mimetype": "text/x-r-source",
      "name": "R",
      "pygments_lexer": "r",
      "version": "3.3.3"
    }
  },
  "nbformat": 4,
  "nbformat_minor": 0,
  "cells": [
    {
      "cell_type": "markdown",
      "source": "Hello there Kagglers stumbling upon this fair notebook. The purpose of this notebook is to see if we can predict the Global_Sales a game will have using a machine learning model. But first, we have to visualize the data.",
      "metadata": {}
    },
    {
      "cell_type": "markdown",
      "source": "**Initial data analysis**",
      "metadata": {}
    },
    {
      "cell_type": "markdown",
      "source": "Hello, fellow Kagglers. In this notebook, we will use data manipulation and visualization, as well as a Regression Algorithm, to try to predict the Global_Sales of a videogame. \n\n**Data loading and Initialization**",
      "metadata": {}
    },
    {
      "cell_type": "code",
      "source": "suppressWarnings(library(ggplot2)) # Data visualization\nsuppressWarnings(library(readr)) # CSV file I/O, e.g. the read_csv function\nsuppressWarnings(library(sqldf))\nsuppressWarnings(library(fmsb))\nsuppressWarnings(library(plotly))\n\n\n# Input data files are available in the \"../input/\" directory.\n# For example, running this (by clicking run or pressing Shift+Enter) will list the files in the input directory\n\nsystem(\"ls ../input\")\n\n\ngames<-read.csv('../input/vgsales.csv')\ngames[games==\"N/A\"]<-NA\ngames<-games[complete.cases(games),]\ngames$Year<-as.numeric(as.character(games$Year))\ngames<-games[games$Year<=2016,]\n# Any results you write to the current directory are saved as output.",
      "execution_count": null,
      "outputs": [],
      "metadata": {}
    },
    {
      "cell_type": "markdown",
      "source": "Let's visualize what we are dealing with. ",
      "metadata": {}
    },
    {
      "cell_type": "code",
      "source": "head(games)",
      "execution_count": null,
      "outputs": [],
      "metadata": {}
    },
    {
      "cell_type": "markdown",
      "source": "Okay, so the dataset has games, their platform, year of release, genre, publisher and Sales by region. There's also the Global_Sales, which we are trying to predict, and it's the sum of the sales of every region. ",
      "metadata": {}
    },
    {
      "cell_type": "markdown",
      "source": "**First Data Manipulation**",
      "metadata": {}
    },
    {
      "cell_type": "markdown",
      "source": "Since the sales of each region obviously highly correlate to the Global_Sales,  it's safe to remove them. ",
      "metadata": {}
    },
    {
      "cell_type": "code",
      "source": "games <- games[!(names(games) %in% c(\"NA_Sales\",\"EU_Sales\",\"JP_Sales\",\"Other_Sales\"))]\nhead(games)",
      "execution_count": null,
      "outputs": [],
      "metadata": {}
    },
    {
      "cell_type": "markdown",
      "source": "Great, now we only have the Global_Sales as a sales factor. There are some interesting visualizations and insights from the sales by region, but I'm not going to cover them in this notebook.  Next, let's view the top 20 games by Global_Sales. Since the dataset is already ordered that way, we just have to use the rank as a condition.",
      "metadata": {}
    },
    {
      "cell_type": "code",
      "source": "games[games$Rank <= 20,]",
      "execution_count": null,
      "outputs": [],
      "metadata": {}
    },
    {
      "cell_type": "markdown",
      "source": "We can see different but related games here, like Pokemon Red/Blue and Pokemon Gold/Silver, which are part of the Pokemon franchise. Let's try creating a new feature called franchise, based on these names. We'll do this manually, but there could be another way to do this by Iterating a word in the title and seeing if it repeats on other games, and create a franchise based on that, but that would be really complicated. So instead, let's do the hacky solution. Let's first create the Nintendo franchises. ",
      "metadata": {}
    },
    {
      "cell_type": "code",
      "source": "#Initialize in NA \ngames$Franchise <- NA\n#Most popular nintendo Franchises\ngames$Franchise[games$Name %in% grep(\"Wii\", games$Name, value = TRUE)]<- \"Wii Series\"\ngames$Franchise[games$Name %in% grep(\"Animal Crossing\", games$Name, value = TRUE)]<- \"Animal Crossing\"\ngames$Franchise[games$Name %in% grep(\"Brain Age\", games$Name, value = TRUE)]<- \"Brain Age\"\ngames$Franchise[games$Name %in% grep(\"Donkey Kong\", games$Name, value = TRUE)]<- \"Donkey Kong\"\ngames$Franchise[games$Name %in% grep(\"F-Zero\", games$Name, value = TRUE)]<- \"F-Zero\"\ngames$Franchise[games$Name %in% grep(\"Fire Emblem\", games$Name, value = TRUE)]<- \"Fire Emblem\"\ngames$Franchise[games$Name %in% grep(\"Golden Sun\", games$Name, value = TRUE)]<- \"Golden Sun\"\ngames$Franchise[games$Name %in% grep(\"Kid Icarus\", games$Name, value = TRUE)]<- \"Kid Icarus\"\ngames$Franchise[games$Name %in% grep(\"Kirby\", games$Name, value = TRUE)]<- \"Kirby\"\ngames$Franchise[games$Name %in% grep(\"Zelda\", games$Name, value = TRUE)]<- \"Zelda\"\ngames$Franchise[games$Name %in% grep(\"Mario\", games$Name, value = TRUE)]<- \"Mario\"\ngames$Franchise[games$Name %in% grep(\"Metroid\", games$Name, value = TRUE)]<- \"Metroid\"\ngames$Franchise[games$Name %in% grep(\"Mother\", games$Name, value = TRUE) & games$Publisher == \"Nintendo\"]<- \"Mother\"\ngames$Franchise[games$Name %in% grep(\"EarthBound\", games$Name, value = TRUE)]<- \"Mother\"\ngames$Franchise[games$Name %in% grep(\"Wars\", games$Name, value = TRUE) & games$Publisher==\"Nintendo\" & games$Genre ==\"Strategy\"]<- \"Nintendo Wars\"\ngames$Franchise[games$Name %in% grep(\"Pikmin\", games$Name, value = TRUE)]<- \"Pikmin\"\ngames$Franchise[games$Name %in% grep(\"Pilotwings\", games$Name, value = TRUE)]<- \"Pilotwings\"\ngames$Franchise[games$Name %in% grep(\"Pokemon\", games$Name, value = TRUE)]<- \"Pokemon\"\ngames$Franchise[games$Name %in% grep(\"Poké\", games$Name, value = TRUE)]<- \"Pokemon\"\ngames$Franchise[games$Name %in% grep(\"Punch-\", games$Name, value = TRUE)]<- \"Punch-Out\"\ngames$Franchise[games$Name %in% grep(\"Puzzle League\", games$Name, value = TRUE)]<- \"Puzzle League\"\ngames$Franchise[games$Name %in% grep(\"Star Fox\", games$Name, value = TRUE)]<- \"Star Fox\"\ngames$Franchise[games$Name %in% grep(\"Super Smash Bros\", games$Name, value = TRUE)]<- \"Super Smash Bros\"\ngames$Franchise[games$Name %in% grep(\"Chibi-\", games$Name, value = TRUE)]<- \"Chibi-Robo\"\ngames$Franchise[games$Name %in% grep(\"Custom Robo\", games$Name, value = TRUE)]<- \"Custom Robo\"\ngames$Franchise[games$Name %in% grep(\"Yoshi\", games$Name, value = TRUE)]<- \"Yoshi\"\ngames$Franchise[games$Name %in% grep(\"Wario\", games$Name, value = TRUE)]<- \"Wario\"\ngames$Franchise[games$Name %in% grep(\"Tetris\", games$Name, value = TRUE)]<- \"Tetris\"\ngames$Franchise[games$Name %in% grep(\"Nintendogs\", games$Name, value = TRUE)]<- \"Nintendogs\"\ngames$Franchise[games$Name %in% grep(\"Duck Hunt\", games$Name, value = TRUE)]<- \"Duck Hunt\"\n\ngames[games$Publisher==\"Nintendo\" ,]",
      "execution_count": null,
      "outputs": [],
      "metadata": {}
    },
    {
      "cell_type": "markdown",
      "source": "That's a start. Now let's do the same with Sony Franchises. Let's first see which their first party games.",
      "metadata": {}
    },
    {
      "cell_type": "markdown",
      "source": "Okay, now we can start creating the Sony Franchises.",
      "metadata": {}
    },
    {
      "cell_type": "code",
      "source": "#Sony franchises\ngames$Franchise[games$Name %in% grep(\"Gran Turismo\", games$Name, value = TRUE)]<- \"Gran Turismo\"\ngames$Franchise[games$Name %in% grep(\"Crash Bandicoot\", games$Name, value = TRUE)]<- \"Crash Bandicoot\"\ngames$Franchise[games$Name %in% grep(\"Crash\", games$Name, value = TRUE) & games$Publisher == \"Vivendi Games\"]<- \"Crash Bandicoot\"\ngames$Franchise[games$Name %in% grep(\"Tekken\", games$Name, value = TRUE)]<- \"Tekken\"\ngames$Franchise[games$Name %in% grep(\"Uncharted\", games$Name, value = TRUE)]<- \"Uncharted\"\ngames$Franchise[games$Name %in% grep(\"LittleBigPlanet\", games$Name, value = TRUE)]<- \"LittleBigPlanet\"\ngames$Franchise[games$Name %in% grep(\"Spyro\", games$Name, value = TRUE)]<- \"Spyro\"\ngames$Franchise[games$Name %in% grep(\"God of War\", games$Name, value = TRUE)]<- \"God of War\"\ngames$Franchise[games$Name %in% grep(\"Jak\", games$Name, value = TRUE) & games$Publisher == \"Sony Computer Entertainment\"]<- \"Jak\"\ngames$Franchise[games$Name %in% grep(\"Daxter\", games$Name, value = TRUE)]<- \"Jak\"\ngames[games$Publisher ==\"Sony Computer Entertainment\",]",
      "execution_count": null,
      "outputs": [],
      "metadata": {}
    },
    {
      "cell_type": "markdown",
      "source": "Next, the same thing but with Microsoft franchises. ",
      "metadata": {}
    },
    {
      "cell_type": "code",
      "source": "#Microsoft Franchises\ngames$Franchise[games$Name %in% grep(\"Kinect\", games$Name, value = TRUE)]<- \"Kinect\"\ngames$Franchise[games$Name %in% grep(\"Fable\", games$Name, value = TRUE)]<- \"Fable\"\ngames$Franchise[games$Name %in% grep(\"Halo\", games$Name, value = TRUE)]<- \"Halo\"\ngames$Franchise[games$Name %in% grep(\"Gears of War\", games$Name, value = TRUE)]<- \"Gears of War\"\ngames$Franchise[games$Name %in% grep(\"Forza\", games$Name, value = TRUE)]<- \"Forza\"\ngames$Franchise[games$Name %in% grep(\"Microsoft\", games$Name, value = TRUE)]<- \"Microsoft Games\"\n\n\n\ngames[games$Publisher %in% grep(\"Microsoft\", games$Publisher, value = TRUE),]",
      "execution_count": null,
      "outputs": [],
      "metadata": {}
    },
    {
      "cell_type": "markdown",
      "source": "Now for all the popular franchises ( there's a lot of them).",
      "metadata": {}
    },
    {
      "cell_type": "code",
      "source": "#Other popular franchises that are not part of the big 3 console makers.\n#I know I missed a lot\ngames$Franchise[games$Name %in% grep(\"007\", games$Name, value = TRUE)]<- \"James Bond\"\ngames$Franchise[games$Name %in% grep(\"Ace Attorney\", games$Name, value = TRUE)]<- \"Ace Attorney\"\ngames$Franchise[games$Name %in% grep(\"Age of Empire\", games$Name, value = TRUE)]<- \"Age of Empires\"\ngames$Franchise[games$Name %in% grep(\"Alan Wake\", games$Name, value = TRUE)]<- \"Alan Wake\"\ngames$Franchise[games$Name %in% grep(\"Alex Kidd\", games$Name, value = TRUE)]<- \"Alex Kidd\"\ngames$Franchise[games$Name %in% grep(\"Ape Escape\", games$Name, value = TRUE)]<- \"Ape Escape\"\ngames$Franchise[games$Name %in% grep(\"ARMA\", games$Name, value = TRUE)]<- \"ARMA\"\ngames$Franchise[games$Name %in% grep(\"Assassin's Creed\", games$Name, value = TRUE)]<- \"Assassin's Creed\"\ngames$Franchise[games$Name %in% grep(\"Atelier\", games$Name, value = TRUE)]<- \"Atelier\"\ngames$Franchise[games$Name %in% grep(\"Baldur\", games$Name, value = TRUE)]<- \"Baldur\"\ngames$Franchise[games$Name %in% grep(\"Banjo\", games$Name, value = TRUE)]<- \"Banjo\"\ngames$Franchise[games$Name %in% grep(\"Baten Kaitos\", games$Name, value = TRUE)]<- \"Baten Kaitos\"\ngames$Franchise[games$Name %in% grep(\"Batman\", games$Name, value = TRUE)]<- \"Batman\"\ngames$Franchise[games$Name %in% grep(\"Battlefield\", games$Name, value = TRUE)]<- \"Battlefield\"\ngames$Franchise[games$Name %in% grep(\"Big Brain\", games$Name, value = TRUE)]<- \"Big Brain\"\ngames$Franchise[games$Name %in% grep(\"Bayonetta\", games$Name, value = TRUE)]<- \"Bayonetta\"\ngames$Franchise[games$Name %in% grep(\"Binding of Isaac\", games$Name, value = TRUE)]<- \"Binding of Isaac\"\ngames$Franchise[games$Name %in% grep(\"Bioshock\", games$Name, value = TRUE)]<- \"Bioshock\"\ngames$Franchise[games$Name %in% grep(\"Bomberman\", games$Name, value = TRUE)]<- \"Bomberman\"\ngames$Franchise[games$Name %in% grep(\"Borderlands\", games$Name, value = TRUE)]<- \"Borderlands\"\ngames$Franchise[games$Name %in% grep(\"Bravely\", games$Name, value = TRUE)]<- \"Bravely\"\ngames$Franchise[games$Name %in% grep(\"Breath of Fire\", games$Name, value = TRUE)]<- \"Breath of Fire\"\ngames$Franchise[games$Name %in% grep(\"Bubsy\", games$Name, value = TRUE)]<- \"Bubsy\"\ngames$Franchise[games$Name %in% grep(\"Burnout\", games$Name, value = TRUE)]<- \"Burnout\"\ngames$Franchise[games$Name %in% grep(\"Call of Duty\", games$Name, value = TRUE)]<- \"Call of Duty\"\ngames$Franchise[games$Name %in% grep(\"Castlevania\", games$Name, value = TRUE)]<- \"Castlevania\"\ngames$Franchise[games$Name %in% grep(\"Chrono\", games$Name, value = TRUE)]<- \"Chrono\"\ngames$Franchise[games$Name %in% grep(\"Civilization\", games$Name, value = TRUE)]<- \"Civilization\"\ngames$Franchise[games$Name %in% grep(\"Conker\", games$Name, value = TRUE)]<- \"Conker\"\ngames$Franchise[games$Name %in% grep(\"Contra\", games$Name, value = TRUE)]<- \"Contra\"\ngames$Franchise[games$Name %in% grep(\"Cooking Mama\", games$Name, value = TRUE)]<- \"Cooking Mama\"\ngames$Franchise[games$Name %in% grep(\"Counter-\", games$Name, value = TRUE)]<- \"Counter Strike\"\ngames$Franchise[games$Name %in% grep(\"Crazy Taxi\", games$Name, value = TRUE)]<- \"Crazy Taxi\"\ngames$Franchise[games$Name %in% grep(\"Crysis\", games$Name, value = TRUE)]<- \"Crysis\"\ngames$Franchise[games$Name %in% grep(\"Dead or Alive\", games$Name, value = TRUE)]<- \"Dead or Alive\"\ngames$Franchise[games$Name %in% grep(\"Dead Rising\", games$Name, value = TRUE)]<- \"Dead Rising\"\ngames$Franchise[games$Name %in% grep(\"Dead Space\", games$Name, value = TRUE)]<- \"Dead Space\"\ngames$Franchise[games$Name %in% grep(\"Deus Ex\", games$Name, value = TRUE)]<- \"Deus Ex\"\ngames$Franchise[games$Name %in% grep(\"Diablo\", games$Name, value = TRUE)]<- \"Diablo\"\ngames$Franchise[games$Name %in% grep(\"Devil May Cry\", games$Name, value = TRUE)]<- \"Devil May Cry\"\ngames$Franchise[games$Name %in% grep(\"Disgaea\", games$Name, value = TRUE)]<- \"Disgaea\"\ngames$Franchise[games$Name %in% grep(\"Doom\", games$Name, value = TRUE)]<- \"Doom\"\ngames$Franchise[games$Name %in% grep(\"Double Dragon\", games$Name, value = TRUE)]<- \"Double Dragon\"\ngames$Franchise[games$Name %in% grep(\"Dragon Age\", games$Name, value = TRUE)]<- \"Dragon Age\"\ngames$Franchise[games$Name %in% grep(\"Dragon Quest\", games$Name, value = TRUE)]<- \"Dragon Quest\"\ngames$Franchise[games$Name %in% grep(\"Dragon Warrior\", games$Name, value = TRUE)]<- \"Dragon Quest\"\ngames$Franchise[games$Name %in% grep(\" Warriors\", games$Name, value = TRUE)]<- \"Mousou\"\ngames$Franchise[games$Name %in% grep(\"Elder Scrolls\", games$Name, value = TRUE)]<- \"Elder Scrolls\"\ngames$Franchise[games$Name %in% grep(\"Fallout\", games$Name, value = TRUE)]<- \"Fallout\"\ngames$Franchise[games$Name %in% grep(\"Far Cry\", games$Name, value = TRUE)]<- \"Far Cry\"\ngames$Franchise[games$Name %in% grep(\"FIFA\", games$Name, value = TRUE)]<- \"FIFA\"\ngames$Franchise[games$Name %in% grep(\"Final Fantasy\", games$Name, value = TRUE)]<- \"Final Fantasy\"\ngames$Franchise[games$Name %in% grep(\"Five Nights\", games$Name, value = TRUE)]<- \"FNAF\"\ngames$Franchise[games$Name %in% grep(\"Frogger\", games$Name, value = TRUE)]<- \"Frogger\"\ngames$Franchise[games$Name %in% grep(\"'n Goblins'\", games$Name, value = TRUE)]<- \"Ghosts 'n Goblins\"\ngames$Franchise[games$Name %in% grep(\"Grand Theft Auto\", games$Name, value = TRUE)]<- \"Grand Theft Auto\"\ngames$Franchise[games$Name %in% grep(\"Guitar Hero\", games$Name, value = TRUE)]<- \"Guitar Hero\"\ngames$Franchise[games$Name %in% grep(\"Half-Life\", games$Name, value = TRUE)]<- \"Half-Life\"\ngames$Franchise[games$Name %in% grep(\"Harvest Moon\", games$Name, value = TRUE)]<- \"Harvest Moon\"\ngames$Franchise[games$Name %in% grep(\"Hitman\", games$Name, value = TRUE)]<- \"Hitman\"\ngames$Franchise[games$Name %in% grep(\"inFamous\", games$Name, value = TRUE)]<- \"inFamous\"\ngames$Franchise[games$Name %in% grep(\"Bond\", games$Name, value = TRUE)]<- \"James Bond\"\ngames$Franchise[games$Name %in% grep(\"Jet Set\", games$Name, value = TRUE)]<- \"Jet Set\"\ngames$Franchise[games$Name %in% grep(\"Just Dance\", games$Name, value = TRUE)]<- \"Just Dance\"\ngames$Franchise[games$Name %in% grep(\"Killer Instinct\", games$Name, value = TRUE)]<- \"Killer Instinct\"\ngames$Franchise[games$Name %in% grep(\"Kingdom Hearts\", games$Name, value = TRUE)]<- \"Kingdom Hearts\"\ngames$Franchise[games$Name %in% grep(\"Madden\", games$Name, value = TRUE)]<- \"Madden\"\ngames$Franchise[games$Name %in% grep(\"Metal Gear\", games$Name, value = TRUE)]<- \"Metal Gear\"\ngames$Franchise[games$Name %in% grep(\"Midnight Club\", games$Name, value = TRUE)]<- \"Midnight Club\"\ngames$Franchise[games$Name %in% grep(\"Monster Hunter\", games$Name, value = TRUE)]<- \"Monster Hunter\"\ngames$Franchise[games$Name %in% grep(\"Mortal Kombat\", games$Name, value = TRUE)]<- \"Mortal Kombat\"\ngames$Franchise[games$Name %in% grep(\"NBA 2K\", games$Name, value = TRUE)]<- \"NBA 2K\"\ngames$Franchise[games$Name %in% grep(\"Need for Speed\", games$Name, value = TRUE)]<- \"Need for Speed\"\ngames$Franchise[games$Name %in% grep(\"Ninja Gaiden\", games$Name, value = TRUE)]<- \"Ninja Gaiden\"\ngames$Franchise[games$Name %in% grep(\"Onimusha\", games$Name, value = TRUE)]<- \"Onimusha\"\ngames$Franchise[games$Name %in% grep(\"Pac-\", games$Name, value = TRUE)]<- \"Pacman\"\ngames$Franchise[games$Name %in% grep(\"Professor Layton\", games$Name, value = TRUE)]<- \"Professor Layton\"\ngames$Franchise[games$Name %in% grep(\"Prince of Persia\", games$Name, value = TRUE)]<- \"Prince of Persia\"\ngames$Franchise[games$Name %in% grep(\"Quake\", games$Name, value = TRUE)]<- \"Quake\"\ngames$Franchise[games$Name %in% grep(\"Rayman\", games$Name, value = TRUE)]<- \"Rayman\"\ngames$Franchise[games$Name %in% grep(\"Rampage\", games$Name, value = TRUE)]<- \"Rampage\"\ngames$Franchise[games$Name %in% grep(\"Resident Evil\", games$Name, value = TRUE)]<- \"Resident Evil\"\ngames$Franchise[games$Name %in% grep(\"Sims\", games$Name, value = TRUE)]<- \"Sims\"\ngames$Franchise[games$Name %in% grep(\"Sonic\", games$Name, value = TRUE)]<- \"Sonic\"\ngames$Franchise[games$Name %in% grep(\"Shin Megami Tensei\", games$Name, value = TRUE)]<- \"SMT\"\ngames$Franchise[games$Name %in% grep(\"Persona \", games$Name, value = TRUE)]<- \"Persona\"\ngames$Franchise[games$Name %in% grep(\"Souls\", games$Name, value = TRUE)]<- \"Souls\"\ngames$Franchise[games$Name %in% grep(\"Star Wars\", games$Name, value = TRUE)]<- \"Star Wars\"\ngames$Franchise[games$Name %in% grep(\"Street Fighter\", games$Name, value = TRUE)]<- \"Street Fighter\"\ngames$Franchise[games$Name %in% grep(\"Tales of\", games$Name, value = TRUE)]<- \"Tales of\"\ngames$Franchise[games$Name %in% grep(\"Turok\", games$Name, value = TRUE)]<- \"Turok\"\ngames$Franchise[games$Name %in% grep(\"Warcraft\", games$Name, value = TRUE)]<- \"Warcraft\"\ngames$Franchise[games$Name %in% grep(\"Worms\", games$Name, value = TRUE)]<- \"Worms\"",
      "execution_count": null,
      "outputs": [],
      "metadata": {}
    },
    {
      "cell_type": "markdown",
      "source": "Now, let's visualize the dataset one more time.",
      "metadata": {}
    },
    {
      "cell_type": "code",
      "source": "games[games$Rank<=100,]",
      "execution_count": null,
      "outputs": [],
      "metadata": {}
    },
    {
      "cell_type": "markdown",
      "source": "Great! Now for two more steps. First let's turn all NAs into \"None\" ",
      "metadata": {}
    },
    {
      "cell_type": "code",
      "source": "games$Franchise[is.na(games$Franchise)] <- \"None\"\ngames[games$Franchise == \"None\",]",
      "execution_count": null,
      "outputs": [],
      "metadata": {}
    },
    {
      "cell_type": "markdown",
      "source": "Wew, we missed some popular franchises in the top 250, but we'll let it slide. \n\nOne option that we have is merging the Action, Adventure and Shooter genre,  since Action can mean a lot of things (Beat em ups, Shoot em ups, Hack and Slash, etc.) but we'll also let it slide. ",
      "metadata": {}
    },
    {
      "cell_type": "markdown",
      "source": "**Data visualization**\n\nNow we can start creating some plots to better understand the distribution of the data. \nFirst, let's see the distribution of sales by Genre",
      "metadata": {}
    },
    {
      "cell_type": "code",
      "source": "\n\nggplot(games, aes(x=Genre, y=Global_Sales, fill = Genre)) +\n    geom_bar(stat=\"identity\")+\n    ggtitle(\"Global Sales by Genre\")",
      "execution_count": null,
      "outputs": [],
      "metadata": {}
    },
    {
      "cell_type": "markdown",
      "source": "Looks like action is the  best selling genre of games by quite a bit, next is Sports. Strategy games don't sell that well unfortunately.  What about the current gen (as of 22/3/2017)  consoles, how are their games doing?",
      "metadata": {}
    },
    {
      "cell_type": "code",
      "source": "ggplot(subset(games, Platform %in% c(\"WiiU\",\"XOne\",\"PS4\",\"3DS\",\"PSV\")), aes(x=Platform, y=Global_Sales, fill = Platform)) +\n    geom_bar(stat=\"identity\")+\n    ggtitle(\"Global Sales by Platform\")",
      "execution_count": null,
      "outputs": [],
      "metadata": {}
    },
    {
      "cell_type": "markdown",
      "source": "Looks like games sell really well on 3DS and PS4! PSVita and WiiU, not so much.  \nNow let's see something for our new feature, franchises. Let's see franchise numbers for the top 50.",
      "metadata": {}
    },
    {
      "cell_type": "code",
      "source": "#Create top 10 best selling franchises;\nBSF <- aggregate(games$Global_Sales, by=list(Franchise=games$Franchise), FUN=sum)\nBSF <- BSF[order(-BSF$x),]\nBSF <- BSF[BSF$Franchise != \"None\", ]\ntenBSF <- BSF[1:10,] \n\nggplot(tenBSF, \n       aes(x=Franchise, y=x, fill = Franchise)) +\n    geom_bar(stat=\"identity\")+\n    ggtitle(\"Global Sales by best selling Franchises\")",
      "execution_count": null,
      "outputs": [],
      "metadata": {}
    },
    {
      "cell_type": "markdown",
      "source": "Looks like Mario, Pokemon and Call of Duty are best sellers.  I think we've seen enough. Before going to the prediction process, let's remove the Rank and Year from the dataset, as it will not help our model in the slightest, given that Rank is just a sorted identifier, and videogames sell more in recent years than in the past. We could argue adding a Generation feature, but I think the platform feature does almost the same function that a Generation feature would have.",
      "metadata": {}
    },
    {
      "cell_type": "code",
      "source": "full <- games[!(names(games) %in% c(\"Year\",\"Rank\") )]\nfull$Franchise <- as.factor(full$Franchise)\nhead(full)",
      "execution_count": null,
      "outputs": [],
      "metadata": {}
    },
    {
      "cell_type": "code",
      "source": "str(full)",
      "execution_count": null,
      "outputs": [],
      "metadata": {}
    },
    {
      "cell_type": "code",
      "source": "head(full)",
      "execution_count": null,
      "outputs": [],
      "metadata": {}
    },
    {
      "cell_type": "markdown",
      "source": "**Prediction**\n\nSince we want to predict a continous variable ( that being Global_Sales) , let's Regression to try to predict it. First, we have to split the dataset in two, the training and the test. For that we have to randomly sample the dataset first, since it's sorted. Since we are only using categorival variables, let's remove  the Publisher factor (since it has too many factors) and ease up on the Franchise variables by splitting it into two, the top 41 franchises are Popular, 42 to 85 are Normal, 86 to 125 are unpopular, and None will still be None.",
      "metadata": {}
    },
    {
      "cell_type": "markdown",
      "source": "Update: Modifying platform feature to have less factors.",
      "metadata": {}
    },
    {
      "cell_type": "code",
      "source": "full$Platform <- as.character(full$Platform)\nfull$Platform[full$Platform %in% c(\"Wii\",\"NES\",\"GB\",\"DS\",\"SNES\",\"GBA\",\"3DS\",\"N64\",\"GC\",\"WiiU\")] <- \"Nintendo\"\nfull$Platform[full$Platform %in% c(\"PS\",\"PS2\",\"PS3\",\"PS4\",\"PSP\",\"PSV\")] <- \"Sony\"\nfull$Platform[full$Platform %in% c(\"XB\",\"XOne\",\"X360\")] <- \"Microsoft\"\nfull$Platform[full$Platform %in% c(\"GG\",\"DC\",\"SAT\",\"GEN\")] <- \"Sega\"\nfull$Platform[!(full$Platform  %in% c(\"Nintendo\",\"Sony\",\"Microsoft\",\"Sega\"))] <- \"Other\"\nfull$Platform <- as.factor(full$Platform)\nstr(full)",
      "execution_count": null,
      "outputs": [],
      "metadata": {}
    },
    {
      "cell_type": "markdown",
      "source": "Update:  Changing publisher feature by position in rankings.",
      "metadata": {}
    },
    {
      "cell_type": "code",
      "source": "\n#Best selling publishers ordered by sales.\nBSP <- aggregate(games$Global_Sales, by=list(Publisher=games$Publisher), FUN=sum)\nBSP <- BSP[order(-BSP$x),]\nBSP$Publisher <- as.character(BSP$Publisher)\nhead(BSP)",
      "execution_count": null,
      "outputs": [],
      "metadata": {}
    },
    {
      "cell_type": "code",
      "source": "#Changes\nfull$Publisher <- as.character(full$Publisher)\nfull$Publisher[full$Publisher %in% BSP$Publisher[BSP$x >=50.00]] <- \"AAA\"\nfull$Publisher[full$Publisher %in% BSP$Publisher[BSP$x >=5.00 & BSP$x <50.00]] <- \"AA\"\nfull$Publisher[full$Publisher %in% BSP$Publisher[BSP$x >=1.00 & BSP$x <5.00]] <- \"A\"\nfull$Publisher[full$Publisher %in% BSP$Publisher[BSP$x <1.00]] <- \"N\"\n\nfull$Publisher <- as.factor(full$Publisher)",
      "execution_count": null,
      "outputs": [],
      "metadata": {}
    },
    {
      "cell_type": "code",
      "source": "head(full)",
      "execution_count": null,
      "outputs": [],
      "metadata": {}
    },
    {
      "cell_type": "code",
      "source": "set.seed(17)\n#Split franchises by sales, using BSF.\nfull$Franchise <- as.character(full$Franchise)\nBSF$Franchise <- as.character(BSF$Franchise)\nfull$Franchise[full$Franchise %in%  BSF$Franchise[1:42]] <- \"Popular\" \nfull$Franchise[full$Franchise %in%  BSF$Franchise[43:84]] <- \"Normal\"\nfull$Franchise[full$Franchise %in%  BSF$Franchise[85:127]] <- \"Unpopular\"\n\nfull$Franchise <- as.factor(full$Franchise)\n\nfull <- full[sample(nrow(full)),]\ntraining <- full[1:8144,]\ntest <- full[8145:16286,]\nvalidate <- test \ntraining<- unique(training)\ntest <- unique(test)\n\ntest$Global_Sales <- NA\ntest <- test[!(names(test) %in% c(\"Name\"))]\nstr(training)\nstr(test)",
      "execution_count": null,
      "outputs": [],
      "metadata": {}
    },
    {
      "cell_type": "markdown",
      "source": "Now to create the model.",
      "metadata": {}
    },
    {
      "cell_type": "code",
      "source": "#Elastic net Model\nsuppressWarnings(library(caret))\nsuppressWarnings(library(glmnet))\n\nlambdagrid <- 10 ^ seq(2,-2,length = 100)\nalphagrid <-  seq(0,1, length= 10 )\n\ntrnControl <- trainControl(\n                method = \"repeatedCV\",\n                number= 10,\n                 repeats = 5)\n\nsrchGrd = expand.grid(.alpha = alphagrid, .lambda = lambdagrid)\n\nformula <- Global_Sales ~ Publisher + Genre + Franchise \nmodel <- train(formula, data=training, method = 'glmnet', tuneGrid= srchGrd, trControl = trnControl,\n              standardize=TRUE, maxit= 1000000 )\nsummary(model)",
      "execution_count": null,
      "outputs": [],
      "metadata": {}
    },
    {
      "cell_type": "code",
      "source": "model2 <- lm(formula,data= training)",
      "execution_count": null,
      "outputs": [],
      "metadata": {}
    },
    {
      "cell_type": "markdown",
      "source": "Now to use the model for prediction, and compare how close or how far from the actual values is it. ",
      "metadata": {}
    },
    {
      "cell_type": "code",
      "source": "model$bestTune\nfinal <- model$finalModel",
      "execution_count": null,
      "outputs": [],
      "metadata": {}
    },
    {
      "cell_type": "code",
      "source": "#Prediction\nprediction <- predict(model, test, s= final$lambda.min)\nsummary(prediction)\nstr(prediction)\nprediction2<- predict(model2,test)",
      "execution_count": null,
      "outputs": [],
      "metadata": {}
    },
    {
      "cell_type": "markdown",
      "source": "And finally the comparison",
      "metadata": {}
    },
    {
      "cell_type": "code",
      "source": "\nEval <- data.frame(Game= validate$Name, Actual = validate$Global_Sales)\n\nprediction <- round(prediction,2)\n\n#To be replaced\nEval <- Eval[1:length(prediction),]\nEval$Predicted <- abs(prediction)\n\n\nEval$diff <- abs(Eval$Predicted - Eval$Actual)\nEval\nMSER <- sqrt(mean(Eval$diff^2))\nMSER\n\n\nEval <- data.frame(Game= validate$Name, Actual = validate$Global_Sales)\n\nprediction2 <- round(prediction2,2)\n\n#To be replaced\nEval <- Eval[1:length(prediction2),]\nEval$Predicted <- abs(prediction2)\n\n\nEval$diff <- abs(Eval$Predicted - Eval$Actual)\nEval\nMSER <- sqrt(mean(Eval$diff^2))\nMSER",
      "execution_count": null,
      "outputs": [],
      "metadata": {}
    },
    {
      "cell_type": "markdown",
      "source": "To be changed..",
      "metadata": {}
    }
  ]
}